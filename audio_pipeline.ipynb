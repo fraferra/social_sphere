{
 "cells": [
  {
   "cell_type": "code",
   "execution_count": 6,
   "metadata": {
    "collapsed": true
   },
   "outputs": [],
   "source": [
    "folder_path = \"SpeechAO_AllActors/\""
   ]
  },
  {
   "cell_type": "code",
   "execution_count": 7,
   "metadata": {
    "collapsed": true
   },
   "outputs": [],
   "source": [
    "import sys\n",
    "import os\n",
    "import subprocess"
   ]
  },
  {
   "cell_type": "code",
   "execution_count": 14,
   "metadata": {
    "collapsed": true
   },
   "outputs": [],
   "source": [
    "def get_wav_file_paths(folder_path):\n",
    "    return map(lambda a: folder_path + a, \n",
    "               filter(lambda a: \".wav\" in a, subprocess.check_output(['ls', folder_path]).splitlines()))"
   ]
  },
  {
   "cell_type": "code",
   "execution_count": 27,
   "metadata": {},
   "outputs": [],
   "source": [
    "import sys, aubio\n",
    "import sys\n",
    "from aubio import source, pvoc, mfcc\n",
    "from numpy import vstack, zeros, diff\n",
    "import numpy as np\n",
    "\n",
    "\n",
    "def process_wav_file(filename,\n",
    "                     samplerate = 0,\n",
    "                     win_s = 1024,\n",
    "                     seconds_window = 3):\n",
    "    hop_s = win_s // 4\n",
    "    \n",
    "    n_filters = 40              # must be 40 for mfcc\n",
    "    n_coeffs = 13\n",
    "    s = source(filename, samplerate, hop_s)\n",
    "    p = pvoc(win_s, hop_s)\n",
    "    m = mfcc(win_s, n_filters, n_coeffs, samplerate)\n",
    "\n",
    "    mfccs = zeros([n_coeffs,])\n",
    "    frames_read = 0\n",
    "    while True:\n",
    "        samples, read = s()\n",
    "        #print(samples, read)\n",
    "        spec = p(samples)\n",
    "        mfcc_out = m(spec)\n",
    "        mfccs = vstack((mfccs, mfcc_out))\n",
    "        frames_read += read\n",
    "        if read < hop_s: break\n",
    "\n",
    "    mfccs1 = diff(mfccs, axis = 0)\n",
    "    mfccs2 = diff(mfccs, axis = 0)\n",
    "    print mfccs.shape, mfccs1.shape, mfccs2.shape\n",
    "    all_data = np.concatenate((mfccs[1:,:], mfccs1, mfccs1), 1)\n",
    "    n_samples = s.duration / s.samplerate / seconds_window\n",
    "    final = []\n",
    "    size_row = len(all_data) / n_samples\n",
    "    for i in range(n_samples):\n",
    "        final.append(all_data[i*size_row: (i+1)*size_row])\n",
    "    return final\n",
    "    "
   ]
  },
  {
   "cell_type": "code",
   "execution_count": 36,
   "metadata": {},
   "outputs": [],
   "source": [
    "#Speech (1 = neutral, 2 = calm, 3 = happy, 4 = sad, 5 = angry, 6 = fearful, 7 = disgust, 8 = surprised)\n",
    "\n",
    "def get_label(filename):\n",
    "    row = np.zeros(8)\n",
    "    filename = filename.split(\"-\")\n",
    "    row[int(filename[2])] = 1\n",
    "    return row\n",
    "    "
   ]
  },
  {
   "cell_type": "code",
   "execution_count": 47,
   "metadata": {
    "collapsed": true
   },
   "outputs": [],
   "source": [
    "def get_mean_avg_etc(row):\n",
    "    new_row = []\n",
    "    new_row += list(row.mean(axis = 0))\n",
    "    new_row += list(row.std(axis = 0))\n",
    "    new_row += list(row.min(axis = 0))\n",
    "    new_row += list(row.max(axis = 0))\n",
    "    return new_row"
   ]
  },
  {
   "cell_type": "code",
   "execution_count": 29,
   "metadata": {},
   "outputs": [
    {
     "name": "stdout",
     "output_type": "stream",
     "text": [
      "(1722, 13) (1721, 13) (1721, 13)\n"
     ]
    }
   ],
   "source": [
    "t = process_wav_file(\"file.wav\")"
   ]
  },
  {
   "cell_type": "code",
   "execution_count": 44,
   "metadata": {},
   "outputs": [
    {
     "data": {
      "text/plain": [
       "array([-23.1329689 ,  -0.99598277,  -1.54086077,  -0.69233215,\n",
       "        -0.22312027,  -0.92380834,  -1.22789073,  -0.43363014,\n",
       "        -0.61343157,  -0.64978623,  -0.82498693,  -1.01015186,\n",
       "        -0.80544245, -23.1329689 ,  -1.30469528,  -1.16883397,\n",
       "        -0.51148197,  -0.89093173,  -0.68956023,  -0.57256049,\n",
       "        -0.49731719,  -0.6085    ,  -0.62861156,  -0.62248993,\n",
       "        -0.58738995,  -0.61289538, -23.1329689 ,  -1.30469528,\n",
       "        -1.16883397,  -0.51148197,  -0.89093173,  -0.68956023,\n",
       "        -0.57256049,  -0.49731719,  -0.6085    ,  -0.62861156,\n",
       "        -0.62248993,  -0.58738995,  -0.61289538])"
      ]
     },
     "execution_count": 44,
     "metadata": {},
     "output_type": "execute_result"
    }
   ],
   "source": [
    "t[0].min(axis = 0)"
   ]
  },
  {
   "cell_type": "code",
   "execution_count": 49,
   "metadata": {},
   "outputs": [
    {
     "data": {
      "text/plain": [
       "156"
      ]
     },
     "execution_count": 49,
     "metadata": {},
     "output_type": "execute_result"
    }
   ],
   "source": [
    "len(get_mean_avg_etc(t[0]))"
   ]
  },
  {
   "cell_type": "code",
   "execution_count": null,
   "metadata": {
    "collapsed": true
   },
   "outputs": [],
   "source": []
  }
 ],
 "metadata": {
  "kernelspec": {
   "display_name": "Python 2",
   "language": "python",
   "name": "python2"
  },
  "language_info": {
   "codemirror_mode": {
    "name": "ipython",
    "version": 2
   },
   "file_extension": ".py",
   "mimetype": "text/x-python",
   "name": "python",
   "nbconvert_exporter": "python",
   "pygments_lexer": "ipython2",
   "version": "2.7.13"
  }
 },
 "nbformat": 4,
 "nbformat_minor": 2
}
